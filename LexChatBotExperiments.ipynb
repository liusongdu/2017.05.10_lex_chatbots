{
 "cells": [
  {
   "cell_type": "code",
   "execution_count": 1,
   "metadata": {
    "collapsed": true
   },
   "outputs": [],
   "source": [
    "import foursquare\n",
    "import boto3\n",
    "import time\n",
    "import json\n",
    "ssm = boto3.client('ssm')\n",
    "ACCESS_TOKEN = ssm.get_parameters(Names=['FoursquareToken'])['Parameters'][0]['Value']\n",
    "ddb = boto3.resource('dynamodb').Table('location_info')\n",
    "fsq_client = foursquare.Foursquare(access_token=ACCESS_TOKEN)\n",
    "\n",
    "def get_location():\n",
    "    now = int(time.time())\n",
    "    item = ddb.get_item(Key={'id': 'location'})['Item']\n",
    "    if item['ts']+300 < now:\n",
    "        return json.loads(item['json'])\n",
    "    checkin = fsq_client.users.checkins(params={'limit': 1})['checkins']['items'][0]\n",
    "    checkin_item = {\n",
    "        'name': checkin['venue']['name'],\n",
    "        'loc': [checkin['venue']['location']['lat'], checkin['venue']['location']['lng']],\n",
    "        'ts': checkin['createdAt']\n",
    "    }\n",
    "    ddb.put_item(Item={'id': 'location', 'json': json.dumps(checkin_item), 'ts': now})\n",
    "    return checkin_item\n",
    "\n",
    "def lambda_handler(event, context):\n",
    "    loc = get_location()\n",
    "    msg = \"Randall was last at {} {}\".format(loc['name'], loc['ts'])\n",
    "    if event['currentIntent']['name'] == 'GetLocation':\n",
    "        return {\"dialogAction\": {\n",
    "            \"type\": \"Close\",\n",
    "            \"fufillmentState\": \"Fulfilled\",\n",
    "            \"message\": {\n",
    "                \"contentType\": \"PlainText\",\n",
    "                \"content\": msg\n",
    "            }\n",
    "        }}"
   ]
  },
  {
   "cell_type": "code",
   "execution_count": 5,
   "metadata": {},
   "outputs": [
    {
     "data": {
      "text/plain": [
       "{'dialogAction': {'fufillmentState': 'Fulfilled',\n",
       "  'message': {'content': 'Randall was last at WeWork Playa Vista 1494451741',\n",
       "   'contentType': 'PlainText'},\n",
       "  'type': 'Close'}}"
      ]
     },
     "execution_count": 5,
     "metadata": {},
     "output_type": "execute_result"
    }
   ],
   "source": [
    "lambda_handler({'currentIntent': {'name': 'GetLocation'}}, None)"
   ]
  },
  {
   "cell_type": "code",
   "execution_count": null,
   "metadata": {
    "collapsed": true
   },
   "outputs": [],
   "source": []
  }
 ],
 "metadata": {
  "kernelspec": {
   "display_name": "Python 2",
   "language": "python",
   "name": "python2"
  },
  "language_info": {
   "codemirror_mode": {
    "name": "ipython",
    "version": 2
   },
   "file_extension": ".py",
   "mimetype": "text/x-python",
   "name": "python",
   "nbconvert_exporter": "python",
   "pygments_lexer": "ipython2",
   "version": "2.7.13"
  }
 },
 "nbformat": 4,
 "nbformat_minor": 2
}
